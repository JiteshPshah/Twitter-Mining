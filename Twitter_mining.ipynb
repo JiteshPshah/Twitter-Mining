{
 "cells": [
  {
   "cell_type": "code",
   "execution_count": 7,
   "metadata": {
    "collapsed": false
   },
   "outputs": [
    {
     "data": {
      "text/plain": [
       "'demonitisation, demonitization, demonitise, demonitize, remonetisation, remonitization, remonitise, remonitize\\r\\nbanknote, banknotes, bank note, bank notes, denomination, high denomination, 500, 1000, 2000, Mahatma Gandhi Series, Gandhi series, ordinance, fine, penalty, cashless, less cash, cash free, cashless transaction, no cash, no-cash, cash, ATM, ATM withdrawal, ATM withdrawal limit, withdrawal limits, limit, air travel, airports, NRIs, foreigners, foreign tourists, tourists, discretion, savings account, current account, wedding, indelible ink, ink, PAN card, \\r\\nGovernment Agencies and Announcements\\r\\nGoverenment of India, GOI, Prime Minister\\x92s Office, PMO, Prime Minister, PM, Narendra Modi, Modi, Reserve Bank of India, RBI, Mint Street, Dr. Urjit Patel, Urjit Patel, Urjit, Dr. Raghuram Rajan, Raguram Rajan, Rajan, R3, Parliament, Parliamentary, Parliamentary Committee, Standing Committee on Finance, Standing Committee, Finance Ministry, Ministry of Finance, Finance Minister, FM, Arun Jaitley, Jaitley, Ministry of Commerce and Industry, Ministry of Commerce, Commerce Ministry, Commerce Minister, Nirmala Sitharaman, Nirmala, Niti Aayog, Planning Commission, Arvind Panagariya, Bibek Debroy, Chief Economic Adviser, Economic Adviser, Economic Advisor, Arvind Subramanian, Piyush Goyal, All India Radio, AIR, Doordarshan, Prasar Bharti, Ministry of Information and Broadcasting, Mann ki Baat, Central Board of Direct Taxes, CBDT, Enforcement Directorate, ED, CBI, FEMA, \\r\\nReason 1: Counterfeit currencies \\r\\nsurgical strike, illegal activity, action taken, security issues, security, Pakistan, Pakistani, Islamabad, Bangladesh, terrorism, Islamic terrorism,  religious terrorism, terror, terror trail, terror finance, Islamic fundamentalism, Muslim fundamentalism, religious fundamentalism, border, pilferage, security features, counterfeit, fake, illicit, counterfeit money, counter, \\r\\nReason 2: Tackling black money\\r\\nblack money, black economy, black wealth, kaladhan, shadow economy, parallel economy, informal economy, concealing, benami, hoarding,  Income Declaration Scheme, raids, seizures, seized, undisclosed income, money laundering, \\r\\nReason 3: Cashless economy\\r\\nCashless, cash less, less cash, payment systems, retail payments, POS, cards, Pay TM, mobile payment, United Payment Interface, UPI, swipe machines, e-payment, internet banking, cardless, gateway, \\r\\nPolitical parties\\r\\nBhartiya Janata Party, BJP, Narendra Modi, Indian National Congress, congress, INC, BJP Spokesperson, Congress Spokesperson, Rahul Gandhi, Manmohan Singh, MMS, Sashi Tharoor, Randeep Surjewala, Chidambaram, Aam Aadmi Party, AAP, Arvind Kejriwal, Kejriwal, Mamata Banerjee, Mamata, Derek, Nitish Kumar, Nitish, Mulayam, Akhilesh, Nitish, Lalu Yadav, Lalu, Sitaram Yechuri, Vijayan, Election Commission, Election Commissioner, High Court, Supreme Court, Courts, public interest litigation, PIL, \\r\\nMedia reactions\\r\\nIndian Express, Financial Express, Times of India, ToI, Economic Times, ET, Zee, New Delhi Television, NDTV, Anandabazar, ABP, India Today, The Hindu, Hindustan Times, HT, Mint, Sun, rediff.com, Firstpost, Sun, UTV, CNBC, Times Now, Dainik Jagran, Divya Bhaskar, The Wire, Economist, Fianancial Times, New York Times, Forbes, Wall Street, BBC, CNN, Bloomberg, CMIE, IndiaSpend, Indicus, Rediff, Newslaundry, Quint, Quora, The Guardian, \\r\\nSupport\\r\\nNAMO, Modiji, President, Pranab Mukherjee, Kailash Satyarthi, crackdown, long term, banks, bankers, bank chairman, Arundhuti, Chanda Kochher, Anand Mahindra, Jindal, Kunal Bahl, mobile payment, Pay TM, Vijay Shankar, Narayan Murthy, Baba Ramdev, Ramdev, Sri Sri Ravi Shankar, Sri Sri, Cjhandrababu Naidu, Pay TM, GST, Quraishi, IMF, Global Times, Jyrki Katainen, Justin Rowlatt, Venezuala, The Independent, Lee Kuan, Amitabh Baccchan, Amitabh, Aishwarya Rai, J&K, stone pelting, hawala, trafficking, Naxalites, Maoists, E-commerce, ecommerce, raids, seizures, tax collection, \\r\\nCriticism\\r\\nBhakt, shortage, long queues, lengthy queue, lengthy queues, disruption, slowdown, muddled, muzzled, poorly planned, poor planning, poorly executed, poor execution, protest, protests, litigation, strikes, bandh, dharna, rally, Akrosh Diwas, crash, crashed, closed, short term, severe, detrimental, death, deaths, inconvenience, rush, growth, GDP growth, plunder, loot, bullion, gold, jewellery, real estate, 86, blood, circulation, six months, leak, leakage, scam, SBI, Sanjeev Kamboj, Akila, Cabinet meeting, signature, tourism, carpet bomgin, Amartya Sen, Kaushik Basu, Subramaniam Swamy, Arun Shourie, Pronab Sen, Prabhat Patnaik, Ninan, Deepak Parekh, Steve Forbes, Krugman, Harvard Business Review, Hitler, shutdown, loss, manpower, emergency, Indira, vegetables, rot, dump, farmers, farming, small industries, SME, difficulties, violence, thrashing, transportation, truck, toll, rabi, harvest, unsold, drop, backdated entries, \\r\\n\\r\\n\\r\\n\\r\\n'"
      ]
     },
     "execution_count": 7,
     "metadata": {},
     "output_type": "execute_result"
    }
   ],
   "source": [
    "F=open(\"Words.txt\")\n",
    "F.read()\n"
   ]
  },
  {
   "cell_type": "code",
   "execution_count": 9,
   "metadata": {
    "collapsed": false
   },
   "outputs": [
    {
     "name": "stdout",
     "output_type": "stream",
     "text": [
      "[]\n"
     ]
    }
   ],
   "source": [
    "text=[word.replace(\",\",\"\").replace(\".\",\"\") for line in F for word in line.lower.split()]\n",
    "print text"
   ]
  }
 ],
 "metadata": {
  "anaconda-cloud": {},
  "kernelspec": {
   "display_name": "Python [conda root]",
   "language": "python",
   "name": "conda-root-py"
  },
  "language_info": {
   "codemirror_mode": {
    "name": "ipython",
    "version": 2
   },
   "file_extension": ".py",
   "mimetype": "text/x-python",
   "name": "python",
   "nbconvert_exporter": "python",
   "pygments_lexer": "ipython2",
   "version": "2.7.12"
  }
 },
 "nbformat": 4,
 "nbformat_minor": 1
}
