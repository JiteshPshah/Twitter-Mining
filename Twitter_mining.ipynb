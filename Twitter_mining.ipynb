{
 "cells": [
  {
   "cell_type": "code",
   "execution_count": 115,
   "metadata": {
    "collapsed": false
   },
   "outputs": [],
   "source": [
    "import pandas as pd\n",
    "import numpy as np"
   ]
  },
  {
   "cell_type": "code",
   "execution_count": 44,
   "metadata": {
    "collapsed": false
   },
   "outputs": [],
   "source": [
    "Data=pd.read_csv(\"/home/dharma/Tweeter Mining/output_got.csv\")"
   ]
  },
  {
   "cell_type": "code",
   "execution_count": 45,
   "metadata": {
    "collapsed": false
   },
   "outputs": [
    {
     "data": {
      "text/html": [
       "<div>\n",
       "<table border=\"1\" class=\"dataframe\">\n",
       "  <thead>\n",
       "    <tr style=\"text-align: right;\">\n",
       "      <th></th>\n",
       "      <th>username</th>\n",
       "      <th>date</th>\n",
       "      <th>retweets</th>\n",
       "      <th>favorites</th>\n",
       "      <th>text</th>\n",
       "      <th>geo</th>\n",
       "      <th>mentions</th>\n",
       "      <th>hashtags</th>\n",
       "      <th>id</th>\n",
       "      <th>permalink</th>\n",
       "      <th>Unnamed: 10</th>\n",
       "      <th>Unnamed: 11</th>\n",
       "      <th>Unnamed: 12</th>\n",
       "    </tr>\n",
       "  </thead>\n",
       "  <tbody>\n",
       "    <tr>\n",
       "      <th>0</th>\n",
       "      <td>BhattNaturally1</td>\n",
       "      <td>2017-02-13 05:27</td>\n",
       "      <td>0</td>\n",
       "      <td>0</td>\n",
       "      <td>Farmers hit hard as tur dal traders shut shop ...</td>\n",
       "      <td>NaN</td>\n",
       "      <td>@narendramodi @PMOIndia</td>\n",
       "      <td>#demonetisation</td>\n",
       "      <td>8.30928733749994E+017</td>\n",
       "      <td>https://twitter.com/BhattNaturally1/status/830...</td>\n",
       "      <td>NaN</td>\n",
       "      <td>NaN</td>\n",
       "      <td>NaN</td>\n",
       "    </tr>\n",
       "    <tr>\n",
       "      <th>1</th>\n",
       "      <td>Shyam17</td>\n",
       "      <td>2017-02-13 05:19</td>\n",
       "      <td>0</td>\n",
       "      <td>0</td>\n",
       "      <td>Note ban most disruptive policy innovation sin...</td>\n",
       "      <td>NaN</td>\n",
       "      <td>NaN</td>\n",
       "      <td>#DeMonetisation #NoteBan #Modi #BJP #RBI #DeMo...</td>\n",
       "      <td>8.30926854638928E+017</td>\n",
       "      <td>https://twitter.com/Shyam17/status/83092685463...</td>\n",
       "      <td>NaN</td>\n",
       "      <td>NaN</td>\n",
       "      <td>NaN</td>\n",
       "    </tr>\n",
       "    <tr>\n",
       "      <th>2</th>\n",
       "      <td>Shyam17</td>\n",
       "      <td>2017-02-13 05:16</td>\n",
       "      <td>0</td>\n",
       "      <td>0</td>\n",
       "      <td>After Demonetisation , Digital Deluge, Banks s...</td>\n",
       "      <td>NaN</td>\n",
       "      <td>NaN</td>\n",
       "      <td>#DeMonetisation #Digital #Digitisation #NoteBan</td>\n",
       "      <td>8.30926046367191E+017</td>\n",
       "      <td>https://twitter.com/Shyam17/status/83092604636...</td>\n",
       "      <td>NaN</td>\n",
       "      <td>NaN</td>\n",
       "      <td>NaN</td>\n",
       "    </tr>\n",
       "    <tr>\n",
       "      <th>3</th>\n",
       "      <td>NewsBossIndia</td>\n",
       "      <td>2017-02-13 05:14</td>\n",
       "      <td>0</td>\n",
       "      <td>0</td>\n",
       "      <td>RBI To Declare 'Verified' Figure On Post- Demo...</td>\n",
       "      <td>NaN</td>\n",
       "      <td>NaN</td>\n",
       "      <td>NaN</td>\n",
       "      <td>8.30925659123757E+017</td>\n",
       "      <td>https://twitter.com/NewsBossIndia/status/83092...</td>\n",
       "      <td>NaN</td>\n",
       "      <td>NaN</td>\n",
       "      <td>NaN</td>\n",
       "    </tr>\n",
       "    <tr>\n",
       "      <th>4</th>\n",
       "      <td>BhattNaturally1</td>\n",
       "      <td>2017-02-13 05:14</td>\n",
       "      <td>0</td>\n",
       "      <td>0</td>\n",
       "      <td>‘We’ll show them what it means to be cashless’...</td>\n",
       "      <td>NaN</td>\n",
       "      <td>@narendramodi</td>\n",
       "      <td>NaN</td>\n",
       "      <td>8.309255743947E+017</td>\n",
       "      <td>https://twitter.com/BhattNaturally1/status/830...</td>\n",
       "      <td>NaN</td>\n",
       "      <td>NaN</td>\n",
       "      <td>NaN</td>\n",
       "    </tr>\n",
       "  </tbody>\n",
       "</table>\n",
       "</div>"
      ],
      "text/plain": [
       "          username              date  retweets  favorites  \\\n",
       "0  BhattNaturally1  2017-02-13 05:27         0          0   \n",
       "1          Shyam17  2017-02-13 05:19         0          0   \n",
       "2          Shyam17  2017-02-13 05:16         0          0   \n",
       "3    NewsBossIndia  2017-02-13 05:14         0          0   \n",
       "4  BhattNaturally1  2017-02-13 05:14         0          0   \n",
       "\n",
       "                                                text  geo  \\\n",
       "0  Farmers hit hard as tur dal traders shut shop ...  NaN   \n",
       "1  Note ban most disruptive policy innovation sin...  NaN   \n",
       "2  After Demonetisation , Digital Deluge, Banks s...  NaN   \n",
       "3  RBI To Declare 'Verified' Figure On Post- Demo...  NaN   \n",
       "4  ‘We’ll show them what it means to be cashless’...  NaN   \n",
       "\n",
       "                  mentions                                           hashtags  \\\n",
       "0  @narendramodi @PMOIndia                                    #demonetisation   \n",
       "1                      NaN  #DeMonetisation #NoteBan #Modi #BJP #RBI #DeMo...   \n",
       "2                      NaN    #DeMonetisation #Digital #Digitisation #NoteBan   \n",
       "3                      NaN                                                NaN   \n",
       "4            @narendramodi                                                NaN   \n",
       "\n",
       "                      id                                          permalink  \\\n",
       "0  8.30928733749994E+017  https://twitter.com/BhattNaturally1/status/830...   \n",
       "1  8.30926854638928E+017  https://twitter.com/Shyam17/status/83092685463...   \n",
       "2  8.30926046367191E+017  https://twitter.com/Shyam17/status/83092604636...   \n",
       "3  8.30925659123757E+017  https://twitter.com/NewsBossIndia/status/83092...   \n",
       "4    8.309255743947E+017  https://twitter.com/BhattNaturally1/status/830...   \n",
       "\n",
       "  Unnamed: 10  Unnamed: 11 Unnamed: 12  \n",
       "0         NaN          NaN         NaN  \n",
       "1         NaN          NaN         NaN  \n",
       "2         NaN          NaN         NaN  \n",
       "3         NaN          NaN         NaN  \n",
       "4         NaN          NaN         NaN  "
      ]
     },
     "execution_count": 45,
     "metadata": {},
     "output_type": "execute_result"
    }
   ],
   "source": [
    "Data.head()"
   ]
  },
  {
   "cell_type": "code",
   "execution_count": 46,
   "metadata": {
    "collapsed": false
   },
   "outputs": [],
   "source": [
    "Temp=[Data[\"date\"],Data[\"text\"]]\n",
    "Tweets_WithDate=pd.DataFrame(data=Temp).T\n",
    "?pd.DataFrame"
   ]
  },
  {
   "cell_type": "code",
   "execution_count": 47,
   "metadata": {
    "collapsed": false
   },
   "outputs": [
    {
     "data": {
      "text/html": [
       "<div>\n",
       "<table border=\"1\" class=\"dataframe\">\n",
       "  <thead>\n",
       "    <tr style=\"text-align: right;\">\n",
       "      <th></th>\n",
       "      <th>date</th>\n",
       "      <th>text</th>\n",
       "    </tr>\n",
       "  </thead>\n",
       "  <tbody>\n",
       "    <tr>\n",
       "      <th>0</th>\n",
       "      <td>2017-02-13 05:27</td>\n",
       "      <td>Farmers hit hard as tur dal traders shut shop ...</td>\n",
       "    </tr>\n",
       "    <tr>\n",
       "      <th>1</th>\n",
       "      <td>2017-02-13 05:19</td>\n",
       "      <td>Note ban most disruptive policy innovation sin...</td>\n",
       "    </tr>\n",
       "    <tr>\n",
       "      <th>2</th>\n",
       "      <td>2017-02-13 05:16</td>\n",
       "      <td>After Demonetisation , Digital Deluge, Banks s...</td>\n",
       "    </tr>\n",
       "    <tr>\n",
       "      <th>3</th>\n",
       "      <td>2017-02-13 05:14</td>\n",
       "      <td>RBI To Declare 'Verified' Figure On Post- Demo...</td>\n",
       "    </tr>\n",
       "    <tr>\n",
       "      <th>4</th>\n",
       "      <td>2017-02-13 05:14</td>\n",
       "      <td>‘We’ll show them what it means to be cashless’...</td>\n",
       "    </tr>\n",
       "  </tbody>\n",
       "</table>\n",
       "</div>"
      ],
      "text/plain": [
       "               date                                               text\n",
       "0  2017-02-13 05:27  Farmers hit hard as tur dal traders shut shop ...\n",
       "1  2017-02-13 05:19  Note ban most disruptive policy innovation sin...\n",
       "2  2017-02-13 05:16  After Demonetisation , Digital Deluge, Banks s...\n",
       "3  2017-02-13 05:14  RBI To Declare 'Verified' Figure On Post- Demo...\n",
       "4  2017-02-13 05:14  ‘We’ll show them what it means to be cashless’..."
      ]
     },
     "execution_count": 47,
     "metadata": {},
     "output_type": "execute_result"
    }
   ],
   "source": [
    "Tweets_WithDate.head()\n",
    "#Temp"
   ]
  },
  {
   "cell_type": "code",
   "execution_count": 48,
   "metadata": {
    "collapsed": false
   },
   "outputs": [],
   "source": [
    "Tweets_WithDate[\"text\"]=Tweets_WithDate[\"text\"].str.lower()"
   ]
  },
  {
   "cell_type": "code",
   "execution_count": 118,
   "metadata": {
    "collapsed": false
   },
   "outputs": [
    {
     "data": {
      "text/plain": [
       "10167"
      ]
     },
     "execution_count": 118,
     "metadata": {},
     "output_type": "execute_result"
    }
   ],
   "source": [
    "Tweets_WithDate.head()"
   ]
  },
  {
   "cell_type": "code",
   "execution_count": 111,
   "metadata": {
    "collapsed": false
   },
   "outputs": [
    {
     "name": "stdout",
     "output_type": "stream",
     "text": [
      "<pandas.core.groupby.DataFrameGroupBy object at 0x7f6059b50110>\n"
     ]
    }
   ],
   "source": [
    "Tweets_WithDate.groupby('date').0"
   ]
  },
  {
   "cell_type": "code",
   "execution_count": 50,
   "metadata": {
    "collapsed": true
   },
   "outputs": [],
   "source": [
    "The_Measure = [\"demonitise\", \"demonitize\", \"remonetisation\", \"remonitization\", \"remonitise\", \"remonitize\", \"banknote\", \"banknotes\", \"bank note\", \"bank notes\", \"denomination\", \"high denomination\", \"500\", \"1000\", \"2000\", \"Mahatma Gandhi Series\", \"Gandhi series\", \"ordinance\", \"fine\", \"penalty\", \"cashless\", \"less cash\", \"cash free\", \"cashless transaction\", \"no cash\", \"no-cash\", \"cash\", \"ATM\", \"ATM withdrawal\", \"ATM withdrawal limit\", \"withdrawal limits\", \"limit\", \"air travel\", \"airports\", \"NRIs\", \"foreigners\", \"foreign tourists\", \"tourists\", \"discretion\", \"savings account\", \"current account\", \"wedding\", \"indelible ink\", \"ink\", \"PAN card\"]\n",
    "Gov_Ann = [\"Goverenment of India\", \"GOI\", \"Prime Minister’s Office\", \"PMO\", \"Prime Minister\", \"PM\", \"Narendra Modi\", \"Modi\", \"Reserve Bank of India\", \"RBI\", \"Mint Street\", \"Dr. Urjit Patel\", \"Urjit Patel\", \"Urjit\", \"Dr. Raghuram Rajan\", \"Raguram Rajan\", \"Rajan\", \"R3\", \"Parliament\", \"Parliamentary\", \"Parliamentary Committee\", \"Standing Committee on Finance\", \"Standing Committee\", \"Finance Ministry\", \"Ministry of Finance\", \"Finance Minister\", \"FM\", \"Arun Jaitley\", \"Jaitley\", \"Ministry of Commerce and Industry\", \"Ministry of Commerce\", \"Commerce Ministry\", \"Commerce Minister\", \"Nirmala Sitharaman\", \"Nirmala\", \"Niti Aayog\", \"Planning Commission\", \"Arvind Panagariya\", \"Bibek Debroy\", \"Chief Economic Adviser\", \"Economic Adviser\", \"Economic Advisor\", \"Arvind Subramanian\", \"Piyush Goyal\", \"All India Radio\", \"AIR\", \"Doordarshan\", \"Prasar Bharti\", \"Ministry of Information and Broadcasting\", \"Mann ki Baat\", \"Central Board of Direct Taxes\", \"CBDT\", \"Enforcement Directorate\", \"ED\", \"CBI\", \"FEMA\"]\n",
    "Reason1_FakeC = [\"surgical strike\", \"illegal activity\", \"action taken\", \"security issues\", \"security\", \"Pakistan\", \"Pakistani\", \"Islamabad\", \"Bangladesh\", \"terrorism\", \"Islamic terrorism\", \" religious terrorism\", \"terror\", \"terror trail\", \"terror finance\", \"Islamic fundamentalism\", \"Muslim fundamentalism\", \"religious fundamentalism\", \"border\", \"pilferage\", \"security features\", \"counterfeit\", \"fake\", \"illicit\", \"counterfeit money\", \"counter\"]\n",
    "Reason2_BlackM = [\"black money\", \"black economy\", \"black wealth\", \"kaladhan\", \"shadow economy\", \"parallel economy\", \"informal economy\", \"concealing\", \"benami\", \"hoarding\", \" Income Declaration Scheme\", \"raids\", \"seizures\", \"seized\", \"undisclosed income\", \"money laundering\"]\n",
    "Reason3_CashL = [\"Cashless\", \"cash less\", \"less cash\", \"payment systems\", \"retail payments\", \"POS\", \"cards\", \"Pay TM\", \"mobile payment\", \"United Payment Interface\", \"UPI\", \"swipe machines\", \"e-payment\", \"internet banking\", \"cardless\", \"gateway\"]\n",
    "Pol_Parties = [\"Bhartiya Janata Party\", \"BJP\", \"Narendra Modi\", \"Indian National Congress\", \"congress\", \"INC\", \"BJP Spokesperson\", \"Congress Spokesperson\", \"Rahul Gandhi\", \"Manmohan Singh\", \"MMS\", \"Sashi Tharoor\", \"Randeep Surjewala\", \"Chidambaram\", \"Aam Aadmi Party\", \"AAP\", \"Arvind Kejriwal\", \"Kejriwal\", \"Mamata Banerjee\", \"Mamata\", \"Derek\", \"Nitish Kumar\", \"Nitish\", \"Mulayam\", \"Akhilesh\", \"Nitish\", \"Lalu Yadav\", \"Lalu\", \"Sitaram Yechuri\", \"Vijayan\", \"Election Commission\", \"Election Commissioner\", \"High Court\", \"Supreme Court\", \"Courts\", \"public interest litigation\", \"PIL\"]\n",
    "Media_Reactions = [\"Indian Express\", \"Financial Express\", \"Times of India\", \"ToI\", \"Economic Times\", \"ET\", \"Zee\", \"New Delhi Television\", \"NDTV\", \"Anandabazar\", \"ABP\", \"India Today\", \"The Hindu\", \"Hindustan Times\", \"HT\", \"Mint\", \"Sun\", \"rediff.com\", \"Firstpost\", \"Sun\", \"UTV\", \"CNBC\", \"Times Now\", \"Dainik Jagran\", \"Divya Bhaskar\", \"The Wire\", \"Economist\", \"Fianancial Times\", \"New York Times\", \"Forbes\", \"Wall Street\", \"BBC\", \"CNN\", \"Bloomberg\", \"CMIE\", \"IndiaSpend\", \"Indicus\", \"Rediff\", \"Newslaundry\", \"Quint\", \"Quora\", \"The Guardian\"]\n",
    "Support = [\"NAMO\", \"Modiji\", \"President\", \"Pranab Mukherjee\", \"Kailash Satyarthi\", \"crackdown\", \"long term\", \"banks\", \"bankers\", \"bank chairman\", \"Arundhuti\", \"Chanda Kochher\", \"Anand Mahindra\", \"Jindal\", \"Kunal Bahl\", \"mobile payment\", \"Pay TM\", \"Vijay Shankar\", \"Narayan Murthy\", \"Baba Ramdev\", \"Ramdev\", \"Sri Sri Ravi Shankar\", \"Sri Sri\", \"Cjhandrababu Naidu\", \"Pay TM\", \"GST\", \"Quraishi\", \"IMF\", \"Global Times\", \"Jyrki Katainen\", \"Justin Rowlatt\", \"Venezuala\", \"The Independent\", \"Lee Kuan\", \"Amitabh Baccchan\", \"Amitabh\", \"Aishwarya Rai\", \"J&K\", \"stone pelting\", \"hawala\", \"trafficking\", \"Naxalites\", \"Maoists\", \"E-commerce\", \"ecommerce\", \"raids\", \"seizures\", \"tax collection\"]\n",
    "Criticism = [\"Bhakt\", \"shortage\", \"long queues\", \"lengthy queue\", \"lengthy queues\", \"disruption\", \"slowdown\", \"muddled\", \"muzzled\", \"poorly planned\", \"poor planning\", \"poorly executed\", \"poor execution\", \"protest\", \"protests\", \"litigation\", \"strikes\", \"bandh\", \"dharna\", \"rally\", \"Akrosh Diwas\", \"crash\", \"crashed\", \"closed\", \"short term\", \"severe\", \"detrimental\", \"death\", \"deaths\", \"inconvenience\", \"rush\", \"growth\", \"GDP growth\", \"plunder\", \"loot\", \"bullion\", \"gold\", \"jewellery\", \"real estate\", \"86\", \"blood\", \"circulation\", \"six months\", \"leak\", \"leakage\", \"scam\", \"SBI\", \"Sanjeev Kamboj\", \"Akila\", \"Cabinet meeting\", \"signature\", \"tourism\", \"carpet bomgin\", \"Amartya Sen\", \"Kaushik Basu\", \"Subramaniam Swamy\", \"Arun Shourie\", \"Pronab Sen\", \"Prabhat Patnaik\", \"Ninan\", \"Deepak Parekh\", \"Steve Forbes\", \"Krugman\", \"Harvard Business Review\", \"Hitler\", \"shutdown\", \"loss\", \"manpower\", \"emergency\", \"Indira\", \"vegetables\", \"rot\", \"dump\", \"farmers\", \"farming\", \"small industries\", \"SME\", \"difficulties\", \"violence\", \"thrashing\", \"transportation\", \"truck\", \"toll\", \"rabi\", \"harvest\", \"unsold\", \"drop\", \"backdated entries\"]"
   ]
  },
  {
   "cell_type": "code",
   "execution_count": 51,
   "metadata": {
    "collapsed": false
   },
   "outputs": [],
   "source": [
    "def lowerList(List):\n",
    "    lower = []\n",
    "    for i in List:\n",
    "        i = i.lower()\n",
    "        lower.append(i)\n",
    "    return lower\n",
    "Classes = [The_Measure, Gov_Ann, Reason1_FakeC, Reason2_BlackM, Reason3_CashL, Pol_Parties, Media_Reactions, Support, Criticism]\n",
    "Classes = [lowerList(Class) for Class in Classes]\n"
   ]
  },
  {
   "cell_type": "code",
   "execution_count": 52,
   "metadata": {
    "collapsed": false
   },
   "outputs": [],
   "source": [
    "import matplotlib.pyplot as plt\n",
    "%matplotlib inline"
   ]
  },
  {
   "cell_type": "code",
   "execution_count": 53,
   "metadata": {
    "collapsed": false
   },
   "outputs": [
    {
     "data": {
      "text/plain": [
       "26"
      ]
     },
     "execution_count": 53,
     "metadata": {},
     "output_type": "execute_result"
    }
   ],
   "source": [
    "\n"
   ]
  },
  {
   "cell_type": "code",
   "execution_count": 129,
   "metadata": {
    "collapsed": false
   },
   "outputs": [],
   "source": [
    "#count=np.zeros(Tweets_WithDate.shape[0])\n",
    "count=np.zeros(len(Classes))\n",
    "for i in range(len(Classes)):\n",
    "    for j in range(len(Classes[i])):  \n",
    "        for k in range(len(Tweets_WithDate['text'])):\n",
    "            if Classes[i][j] in Tweets_WithDate[\"text\"][k]:\n",
    "                    #count[k]=count[k]+1\n",
    "                    count[i]=count[i]+1\n",
    "                    \n",
    "                 "
   ]
  },
  {
   "cell_type": "code",
   "execution_count": 132,
   "metadata": {
    "collapsed": false
   },
   "outputs": [
    {
     "name": "stdout",
     "output_type": "stream",
     "text": [
      "[ 0.  0.  0. ...,  0.  0.  0.]\n",
      "‘we’ll show them what it means to be cashless’: in west up, simmering anger against demonetisation https:// scroll.in/article/828879 /well-show-them-what-it-means-to-be-cashless-in-west-up-a-simmering-anger-against-demonetisation … @narendramodi\n",
      "[  2824.  10415.    284.    305.   1430.   3699.  17100.    848.   1959.]\n"
     ]
    }
   ],
   "source": [
    "#if Classes[3][0] in Tweets_WithDate['text'][4]:\n",
    "print np.zeros(Tweets_WithDate.shape[0])\n",
    "print Tweets_WithDate['text'][4]\n",
    "print count\n",
    "#Words[][]=\n"
   ]
  },
  {
   "cell_type": "code",
   "execution_count": 141,
   "metadata": {
    "collapsed": false
   },
   "outputs": [
    {
     "data": {
      "image/png": "[encoded data removed]",
      "text/plain": [
       "<matplotlib.figure.Figure at 0x7f6058f43c90>"
      ]
     },
     "metadata": {},
     "output_type": "display_data"
    }
   ],
   "source": [
    "import seaborn as sns\n",
    "Classes1 = ['The_Measure', 'Gov_Ann',' Reason1_FakeC',' Reason2_BlackM', \"Reason3_CashL\", 'Pol_Parties', 'Media_Reactions', 'Support', 'Criticism']\n",
    "_ROTATION_DEGREES = 90\n",
    "b=sns.barplot(x=Classes1,y=count)\n",
    "b.set_xticklabels(Classes1, rotation=_ROTATION_DEGREES)\n",
    "b.set_title('No. of Tweets for each class')\n",
    "b.set_xlabel(\"Classes\")\n",
    "b.set_ylabel(\"No. of Tweets\")\n",
    "b.invert_xaxis()\n",
    "#plt.yticks(rotation=0) \n",
    "#?sns.barplot\n",
    "#?pd.DataFrame()\n",
    "#Frequencies_words.plot(kind='bar',)"
   ]
  },
  {
   "cell_type": "code",
   "execution_count": null,
   "metadata": {
    "collapsed": true
   },
   "outputs": [],
   "source": [
    "Classes1 = ['The_Measure', 'Gov_Ann',' Reason1_FakeC',' Reason2_BlackM', \"Reason3_CashL\", 'Pol_Parties', 'Media_Reactions', 'Support', 'Criticism']"
   ]
  },
  {
   "cell_type": "code",
   "execution_count": 127,
   "metadata": {
    "collapsed": false
   },
   "outputs": [
    {
     "data": {
      "text/plain": [
       "array([ 8.,  6.,  4., ...,  3.,  7.,  3.])"
      ]
     },
     "execution_count": 127,
     "metadata": {},
     "output_type": "execute_result"
    }
   ],
   "source": []
  },
  {
   "cell_type": "code",
   "execution_count": 119,
   "metadata": {
    "collapsed": false
   },
   "outputs": [
    {
     "name": "stdout",
     "output_type": "stream",
     "text": [
      "d\n"
     ]
    },
    {
     "ename": "IndexError",
     "evalue": "string index out of range",
     "output_type": "error",
     "traceback": [
      "\u001b[0;31m---------------------------------------------------------------------------\u001b[0m",
      "\u001b[0;31mIndexError\u001b[0m                                Traceback (most recent call last)",
      "\u001b[0;32m<ipython-input-119-7bbeeff482be>\u001b[0m in \u001b[0;36m<module>\u001b[0;34m()\u001b[0m\n\u001b[1;32m      1\u001b[0m \u001b[0;32mfor\u001b[0m \u001b[0mi\u001b[0m \u001b[0;32min\u001b[0m \u001b[0mrange\u001b[0m\u001b[0;34m(\u001b[0m\u001b[0mlen\u001b[0m\u001b[0;34m(\u001b[0m\u001b[0mClasses\u001b[0m\u001b[0;34m)\u001b[0m\u001b[0;34m)\u001b[0m\u001b[0;34m:\u001b[0m\u001b[0;34m\u001b[0m\u001b[0m\n\u001b[1;32m      2\u001b[0m     \u001b[0;32mfor\u001b[0m \u001b[0mj\u001b[0m \u001b[0;32min\u001b[0m \u001b[0mrange\u001b[0m\u001b[0;34m(\u001b[0m\u001b[0mlen\u001b[0m\u001b[0;34m(\u001b[0m\u001b[0mClasses\u001b[0m\u001b[0;34m[\u001b[0m\u001b[0mi\u001b[0m\u001b[0;34m]\u001b[0m\u001b[0;34m)\u001b[0m\u001b[0;34m)\u001b[0m\u001b[0;34m:\u001b[0m\u001b[0;34m\u001b[0m\u001b[0m\n\u001b[0;32m----> 3\u001b[0;31m         \u001b[0;32mprint\u001b[0m \u001b[0ma\u001b[0m\u001b[0;34m[\u001b[0m\u001b[0mi\u001b[0m\u001b[0;34m]\u001b[0m\u001b[0;34m[\u001b[0m\u001b[0mj\u001b[0m\u001b[0;34m]\u001b[0m\u001b[0;34m\u001b[0m\u001b[0m\n\u001b[0m",
      "\u001b[0;31mIndexError\u001b[0m: string index out of range"
     ]
    }
   ],
   "source": [
    "for i in range(len(Classes)):\n",
    "    for j in range(len(Classes[i])): \n",
    "        print a[i][j]"
   ]
  },
  {
   "cell_type": "code",
   "execution_count": null,
   "metadata": {
    "collapsed": true
   },
   "outputs": [],
   "source": []
  }
 ],
 "metadata": {
  "anaconda-cloud": {},
  "kernelspec": {
   "display_name": "Python [conda root]",
   "language": "python",
   "name": "conda-root-py"
  },
  "language_info": {
   "codemirror_mode": {
    "name": "ipython",
    "version": 2
   },
   "file_extension": ".py",
   "mimetype": "text/x-python",
   "name": "python",
   "nbconvert_exporter": "python",
   "pygments_lexer": "ipython2",
   "version": "2.7.12"
  }
 },
 "nbformat": 4,
 "nbformat_minor": 1
}
