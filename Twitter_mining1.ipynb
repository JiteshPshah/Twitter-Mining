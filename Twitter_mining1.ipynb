{
 "cells": [
  {
   "cell_type": "markdown",
   "metadata": {},
   "source": [
    "### import necssary packages"
   ]
  },
  {
   "cell_type": "code",
   "execution_count": 1,
   "metadata": {
    "collapsed": false
   },
   "outputs": [],
   "source": [
    "import pandas as pd\n",
    "import numpy as np"
   ]
  },
  {
   "cell_type": "markdown",
   "metadata": {},
   "source": [
    "#### Load Data and look some 5 rows"
   ]
  },
  {
   "cell_type": "code",
   "execution_count": 2,
   "metadata": {
    "collapsed": false
   },
   "outputs": [],
   "source": [
    "Data=pd.read_csv(\"/home/akash/Tweeter Mining/output_got.csv\")"
   ]
  },
  {
   "cell_type": "code",
   "execution_count": 2,
   "metadata": {
    "collapsed": false
   },
   "outputs": [
    {
     "name": "stderr",
     "output_type": "stream",
     "text": [
      "/home/akash/anaconda2/lib/python2.7/site-packages/IPython/core/interactiveshell.py:2717: DtypeWarning: Columns (14,17) have mixed types. Specify dtype option on import or set low_memory=False.\n",
      "  interactivity=interactivity, compiler=compiler, result=result)\n"
     ]
    }
   ],
   "source": [
    "Data=pd.read_csv(\"/home/akash/Tweeter Mining/Twitter_data_master_final_months.csv\")"
   ]
  },
  {
   "cell_type": "code",
   "execution_count": 3,
   "metadata": {
    "collapsed": false
   },
   "outputs": [
    {
     "data": {
      "text/html": [
       "<div>\n",
       "<table border=\"1\" class=\"dataframe\">\n",
       "  <thead>\n",
       "    <tr style=\"text-align: right;\">\n",
       "      <th></th>\n",
       "      <th>username</th>\n",
       "      <th>date</th>\n",
       "      <th>month</th>\n",
       "      <th>retweets</th>\n",
       "      <th>favorites</th>\n",
       "      <th>text</th>\n",
       "      <th>geo</th>\n",
       "      <th>mentions</th>\n",
       "      <th>hashtags</th>\n",
       "      <th>id</th>\n",
       "      <th>permalink</th>\n",
       "      <th>Unnamed: 11</th>\n",
       "      <th>Unnamed: 12</th>\n",
       "      <th>Unnamed: 13</th>\n",
       "      <th>Unnamed: 14</th>\n",
       "      <th>Unnamed: 15</th>\n",
       "      <th>Unnamed: 16</th>\n",
       "      <th>Unnamed: 17</th>\n",
       "    </tr>\n",
       "  </thead>\n",
       "  <tbody>\n",
       "    <tr>\n",
       "      <th>0</th>\n",
       "      <td>ajit4onlyu</td>\n",
       "      <td>16-02-2017 18:48</td>\n",
       "      <td>February</td>\n",
       "      <td>0</td>\n",
       "      <td>0</td>\n",
       "      <td>Thanks to demonitisation and predatory pricing...</td>\n",
       "      <td>NaN</td>\n",
       "      <td>@narendramodi</td>\n",
       "      <td>NaN</td>\n",
       "      <td>8.32E+17</td>\n",
       "      <td>https://twitter.com/ajit4onlyu/status/83221756...</td>\n",
       "      <td>NaN</td>\n",
       "      <td>NaN</td>\n",
       "      <td>NaN</td>\n",
       "      <td>NaN</td>\n",
       "      <td>NaN</td>\n",
       "      <td>NaN</td>\n",
       "      <td>NaN</td>\n",
       "    </tr>\n",
       "    <tr>\n",
       "      <th>1</th>\n",
       "      <td>TheNaveenReddy</td>\n",
       "      <td>16-02-2017 17:43</td>\n",
       "      <td>February</td>\n",
       "      <td>4</td>\n",
       "      <td>1</td>\n",
       "      <td>LMAO .. demonitisation gave a new lease of lif...</td>\n",
       "      <td>NaN</td>\n",
       "      <td>NaN</td>\n",
       "      <td>NaN</td>\n",
       "      <td>8.32E+17</td>\n",
       "      <td>https://twitter.com/TheNaveenReddy/status/8322...</td>\n",
       "      <td>NaN</td>\n",
       "      <td>NaN</td>\n",
       "      <td>NaN</td>\n",
       "      <td>NaN</td>\n",
       "      <td>NaN</td>\n",
       "      <td>NaN</td>\n",
       "      <td>NaN</td>\n",
       "    </tr>\n",
       "    <tr>\n",
       "      <th>2</th>\n",
       "      <td>khanstudygroup</td>\n",
       "      <td>16-02-2017 17:21</td>\n",
       "      <td>February</td>\n",
       "      <td>1</td>\n",
       "      <td>0</td>\n",
       "      <td>KSG EXCLUSIVE INSIGHT - THE DEMONITISATION EFF...</td>\n",
       "      <td>NaN</td>\n",
       "      <td>NaN</td>\n",
       "      <td>NaN</td>\n",
       "      <td>8.32E+17</td>\n",
       "      <td>https://twitter.com/khanstudygroup/status/8321...</td>\n",
       "      <td>NaN</td>\n",
       "      <td>NaN</td>\n",
       "      <td>NaN</td>\n",
       "      <td>NaN</td>\n",
       "      <td>NaN</td>\n",
       "      <td>NaN</td>\n",
       "      <td>NaN</td>\n",
       "    </tr>\n",
       "    <tr>\n",
       "      <th>3</th>\n",
       "      <td>Payals2012</td>\n",
       "      <td>16-02-2017 16:59</td>\n",
       "      <td>February</td>\n",
       "      <td>0</td>\n",
       "      <td>0</td>\n",
       "      <td>@RoflGandhi_ @iamsrktheking jub Demonitisation...</td>\n",
       "      <td>NaN</td>\n",
       "      <td>@RoflGandhi_ @iamsrktheking</td>\n",
       "      <td>NaN</td>\n",
       "      <td>8.32E+17</td>\n",
       "      <td>https://twitter.com/Payals2012/status/83219009...</td>\n",
       "      <td>NaN</td>\n",
       "      <td>NaN</td>\n",
       "      <td>NaN</td>\n",
       "      <td>NaN</td>\n",
       "      <td>NaN</td>\n",
       "      <td>NaN</td>\n",
       "      <td>NaN</td>\n",
       "    </tr>\n",
       "    <tr>\n",
       "      <th>4</th>\n",
       "      <td>TejBahadurYadaa</td>\n",
       "      <td>16-02-2017 16:40</td>\n",
       "      <td>February</td>\n",
       "      <td>0</td>\n",
       "      <td>0</td>\n",
       "      <td>@timesofindia @narendramodi yes indeed true th...</td>\n",
       "      <td>NaN</td>\n",
       "      <td>@timesofindia @narendramodi</td>\n",
       "      <td>#Demonitisation</td>\n",
       "      <td>8.32E+17</td>\n",
       "      <td>https://twitter.com/TejBahadurYadaa/status/832...</td>\n",
       "      <td>NaN</td>\n",
       "      <td>NaN</td>\n",
       "      <td>NaN</td>\n",
       "      <td>NaN</td>\n",
       "      <td>NaN</td>\n",
       "      <td>NaN</td>\n",
       "      <td>NaN</td>\n",
       "    </tr>\n",
       "  </tbody>\n",
       "</table>\n",
       "</div>"
      ],
      "text/plain": [
       "          username              date     month  retweets  favorites  \\\n",
       "0       ajit4onlyu  16-02-2017 18:48  February         0          0   \n",
       "1   TheNaveenReddy  16-02-2017 17:43  February         4          1   \n",
       "2   khanstudygroup  16-02-2017 17:21  February         1          0   \n",
       "3       Payals2012  16-02-2017 16:59  February         0          0   \n",
       "4  TejBahadurYadaa  16-02-2017 16:40  February         0          0   \n",
       "\n",
       "                                                text  geo  \\\n",
       "0  Thanks to demonitisation and predatory pricing...  NaN   \n",
       "1  LMAO .. demonitisation gave a new lease of lif...  NaN   \n",
       "2  KSG EXCLUSIVE INSIGHT - THE DEMONITISATION EFF...  NaN   \n",
       "3  @RoflGandhi_ @iamsrktheking jub Demonitisation...  NaN   \n",
       "4  @timesofindia @narendramodi yes indeed true th...  NaN   \n",
       "\n",
       "                      mentions         hashtags        id  \\\n",
       "0                @narendramodi              NaN  8.32E+17   \n",
       "1                          NaN              NaN  8.32E+17   \n",
       "2                          NaN              NaN  8.32E+17   \n",
       "3  @RoflGandhi_ @iamsrktheking              NaN  8.32E+17   \n",
       "4  @timesofindia @narendramodi  #Demonitisation  8.32E+17   \n",
       "\n",
       "                                           permalink Unnamed: 11 Unnamed: 12  \\\n",
       "0  https://twitter.com/ajit4onlyu/status/83221756...         NaN         NaN   \n",
       "1  https://twitter.com/TheNaveenReddy/status/8322...         NaN         NaN   \n",
       "2  https://twitter.com/khanstudygroup/status/8321...         NaN         NaN   \n",
       "3  https://twitter.com/Payals2012/status/83219009...         NaN         NaN   \n",
       "4  https://twitter.com/TejBahadurYadaa/status/832...         NaN         NaN   \n",
       "\n",
       "  Unnamed: 13 Unnamed: 14  Unnamed: 15  Unnamed: 16 Unnamed: 17  \n",
       "0         NaN         NaN          NaN          NaN         NaN  \n",
       "1         NaN         NaN          NaN          NaN         NaN  \n",
       "2         NaN         NaN          NaN          NaN         NaN  \n",
       "3         NaN         NaN          NaN          NaN         NaN  \n",
       "4         NaN         NaN          NaN          NaN         NaN  "
      ]
     },
     "execution_count": 3,
     "metadata": {},
     "output_type": "execute_result"
    }
   ],
   "source": [
    "Data.head()"
   ]
  },
  {
   "cell_type": "code",
   "execution_count": 7,
   "metadata": {
    "collapsed": false
   },
   "outputs": [
    {
     "name": "stderr",
     "output_type": "stream",
     "text": [
      "UsageError: Missing filename, URL, input history range, macro, or element in the user namespace.\n"
     ]
    }
   ],
   "source": [
    "load "
   ]
  },
  {
   "cell_type": "code",
   "execution_count": 4,
   "metadata": {
    "collapsed": false
   },
   "outputs": [],
   "source": [
    "Temp=[Data[\"date\"],Data[\"text\"]]\n",
    "Tweets_WithDate=pd.DataFrame(data=Temp).T"
   ]
  },
  {
   "cell_type": "code",
   "execution_count": 5,
   "metadata": {
    "collapsed": false
   },
   "outputs": [
    {
     "data": {
      "text/plain": [
       "(79192, 2)"
      ]
     },
     "execution_count": 5,
     "metadata": {},
     "output_type": "execute_result"
    }
   ],
   "source": [
    "Tweets_WithDate.head()\n",
    "Tweets_WithDate.shape"
   ]
  },
  {
   "cell_type": "code",
   "execution_count": 6,
   "metadata": {
    "collapsed": false
   },
   "outputs": [],
   "source": [
    "Tweets_WithDate[\"text\"]=Tweets_WithDate[\"text\"].str.lower()"
   ]
  },
  {
   "cell_type": "code",
   "execution_count": 7,
   "metadata": {
    "collapsed": false
   },
   "outputs": [
    {
     "data": {
      "text/html": [
       "<div>\n",
       "<table border=\"1\" class=\"dataframe\">\n",
       "  <thead>\n",
       "    <tr style=\"text-align: right;\">\n",
       "      <th></th>\n",
       "      <th>date</th>\n",
       "      <th>text</th>\n",
       "    </tr>\n",
       "  </thead>\n",
       "  <tbody>\n",
       "    <tr>\n",
       "      <th>0</th>\n",
       "      <td>16-02-2017 18:48</td>\n",
       "      <td>thanks to demonitisation and predatory pricing...</td>\n",
       "    </tr>\n",
       "    <tr>\n",
       "      <th>1</th>\n",
       "      <td>16-02-2017 17:43</td>\n",
       "      <td>lmao .. demonitisation gave a new lease of lif...</td>\n",
       "    </tr>\n",
       "    <tr>\n",
       "      <th>2</th>\n",
       "      <td>16-02-2017 17:21</td>\n",
       "      <td>ksg exclusive insight - the demonitisation eff...</td>\n",
       "    </tr>\n",
       "    <tr>\n",
       "      <th>3</th>\n",
       "      <td>16-02-2017 16:59</td>\n",
       "      <td>@roflgandhi_ @iamsrktheking jub demonitisation...</td>\n",
       "    </tr>\n",
       "    <tr>\n",
       "      <th>4</th>\n",
       "      <td>16-02-2017 16:40</td>\n",
       "      <td>@timesofindia @narendramodi yes indeed true th...</td>\n",
       "    </tr>\n",
       "  </tbody>\n",
       "</table>\n",
       "</div>"
      ],
      "text/plain": [
       "               date                                               text\n",
       "0  16-02-2017 18:48  thanks to demonitisation and predatory pricing...\n",
       "1  16-02-2017 17:43  lmao .. demonitisation gave a new lease of lif...\n",
       "2  16-02-2017 17:21  ksg exclusive insight - the demonitisation eff...\n",
       "3  16-02-2017 16:59  @roflgandhi_ @iamsrktheking jub demonitisation...\n",
       "4  16-02-2017 16:40  @timesofindia @narendramodi yes indeed true th..."
      ]
     },
     "execution_count": 7,
     "metadata": {},
     "output_type": "execute_result"
    }
   ],
   "source": [
    "Tweets_WithDate.head()"
   ]
  },
  {
   "cell_type": "markdown",
   "metadata": {},
   "source": [
    "Creating Bag of Words for our classes."
   ]
  },
  {
   "cell_type": "code",
   "execution_count": 8,
   "metadata": {
    "collapsed": true
   },
   "outputs": [],
   "source": [
    "Gov_Ann = [\"Goverenment of India\", \"GOI\", \"Prime Minister’s Office\", \"PMOindia\", \"Prime Minister\", \"PM\", \"Narendra Modi\", \"Modi\", \"Reserve Bank of India\", \"RBI\", \"Mint Street\", \"Dr. Urjit Patel\", \"Urjit Patel\", \"Urjit\", \"Dr. Raghuram Rajan\", \"Raguram Rajan\", \"Rajan\", \"R3\", \"Parliament\", \"Parliamentary\", \"Parliamentary Committee\", \"Standing Committee on Finance\", \"Standing Committee\", \"Finance Ministry\", \"Ministry of Finance\", \"Finance Minister\", \"FM\", \"Arun Jaitley\", \"Jaitley\", \"Ministry of Commerce and Industry\", \"Ministry of Commerce\", \"Commerce Ministry\", \"Commerce Minister\", \"Nirmala Sitharaman\", \"Nirmala\", \"Niti Aayog\", \"Planning Commission\", \"Arvind Panagariya\", \"Bibek Debroy\", \"Chief Economic Adviser\", \"Economic Adviser\", \"Economic Advisor\", \"Arvind Subramanian\", \"Piyush Goyal\", \"All India Radio\", \"AIR\", \"Doordarshan\", \"Prasar Bharti\", \"Ministry of Information and Broadcasting\", \"Mann ki Baat\", \"Central Board of Direct Taxes\", \"CBDT\", \"Enforcement Directorate\", \"ED\", \"CBI\", \"FEMA\"]\n",
    "Reason1_FakeC = [\"surgical strike\", \"illegal activity\", \"action taken\", \"security issues\", \"security\", \"Pakistan\", \"Pakistani\", \"Islamabad\", \"Bangladesh\", \"terrorism\", \"Islamic terrorism\", \" religious terrorism\", \"terror\", \"terror trail\", \"terror finance\", \"Islamic fundamentalism\", \"Muslim fundamentalism\", \"religious fundamentalism\", \"border\", \"pilferage\", \"security features\", \"counterfeit\", \"fake\", \"illicit\", \"counterfeit money\", \"counter\"]\n",
    "Reason2_BlackM = [\"blackmoney\", \"black economy\", \"black wealth\", \"kaladhan\", \"shadow economy\", \"parallel economy\", \"informal economy\", \"concealing\", \"benami\", \"hoarding\", \" Income Declaration Scheme\", \"raids\", \"seizures\", \"seized\", \"undisclosed income\", \"money laundering\"]\n",
    "Reason3_CashL = [\"Cashless\", \"cash less\", \"less cash\", \"payment systems\", \"retail payments\", \"POS\", \"cards\", \"Pay TM\", \"mobile payment\", \"United Payment Interface\", \"UPI\", \"swipe machines\", \"e-payment\", \"internet banking\", \"cardless\", \"gateway\"]\n",
    "Pol_Parties = [\"Bhartiya Janata Party\", \"BJP\", \"Narendra Modi\", \"Indian National Congress\", \"congress\", \"INC\", \"BJP Spokesperson\", \"Congress Spokesperson\", \"Rahul Gandhi\", \"Manmohan Singh\", \"MMS\", \"Sashi Tharoor\", \"Randeep Surjewala\", \"Chidambaram\", \"Aam Aadmi Party\", \"AAP\", \"Arvind Kejriwal\", \"Kejriwal\", \"Mamata Banerjee\", \"Mamata\", \"Derek\", \"Nitish Kumar\", \"Nitish\", \"Mulayam\", \"Akhilesh\", \"Nitish\", \"Lalu Yadav\", \"Lalu\", \"Sitaram Yechuri\", \"Vijayan\", \"Election Commission\", \"Election Commissioner\", \"High Court\", \"Supreme Court\", \"Courts\", \"public interest litigation\", \"PIL\"]\n",
    "Media_Reactions = [\"Indian Express\", \"Financial Express\", \"Times of India\", \"ToI\", \"Economic Times\", \"ET\", \"Zee\", \"New Delhi Television\", \"NDTV\", \"Anandabazar\", \"ABP\", \"India Today\", \"The Hindu\", \"Hindustan Times\", \"HT\", \"Mint\", \"Sun\", \"rediff.com\", \"Firstpost\", \"Sun\", \"UTV\", \"CNBC\", \"Times Now\", \"Dainik Jagran\", \"Divya Bhaskar\", \"The Wire\", \"Economist\", \"Fianancial Times\", \"New York Times\", \"Forbes\", \"Wall Street\", \"BBC\", \"CNN\", \"Bloomberg\", \"CMIE\", \"IndiaSpend\", \"Indicus\", \"Rediff\", \"Newslaundry\", \"Quint\", \"Quora\", \"The Guardian\"]\n",
    "Support = [\"NAMO\", \"Modiji\", \"President\", \"Pranab Mukherjee\", \"Kailash Satyarthi\", \"crackdown\", \"long term\", \"banks\", \"bankers\", \"bank chairman\", \"Arundhuti\", \"Chanda Kochher\", \"Anand Mahindra\", \"Jindal\", \"Kunal Bahl\", \"mobile payment\", \"Pay TM\", \"Vijay Shankar\", \"Narayan Murthy\", \"Baba Ramdev\", \"Ramdev\", \"Sri Sri Ravi Shankar\", \"Sri Sri\", \"Cjhandrababu Naidu\", \"Pay TM\", \"GST\", \"Quraishi\", \"IMF\", \"Global Times\", \"Jyrki Katainen\", \"Justin Rowlatt\", \"Venezuala\", \"The Independent\", \"Lee Kuan\", \"Amitabh Baccchan\", \"Amitabh\", \"Aishwarya Rai\", \"J&K\", \"stone pelting\", \"hawala\", \"trafficking\", \"Naxalites\", \"Maoists\", \"E-commerce\", \"ecommerce\", \"raids\", \"seizures\", \"tax collection\"]\n",
    "Criticism = [\"Bhakt\", \"shortage\", \"long queues\", \"lengthy queue\", \"lengthy queues\", \"disruption\", \"slowdown\", \"muddled\", \"muzzled\", \"poorly planned\", \"poor planning\", \"poorly executed\", \"poor execution\", \"protest\", \"protests\", \"litigation\", \"strikes\", \"bandh\", \"dharna\", \"rally\", \"Akrosh Diwas\", \"crash\", \"crashed\", \"closed\", \"short term\", \"severe\", \"detrimental\", \"death\", \"deaths\", \"inconvenience\", \"rush\", \"growth\", \"GDP growth\", \"plunder\", \"loot\", \"bullion\", \"gold\", \"jewellery\", \"real estate\", \"86\", \"blood\", \"circulation\", \"six months\", \"leak\", \"leakage\", \"scam\", \"SBI\", \"Sanjeev Kamboj\", \"Akila\", \"Cabinet meeting\", \"signature\", \"tourism\", \"carpet bomgin\", \"Amartya Sen\", \"Kaushik Basu\", \"Subramaniam Swamy\", \"Arun Shourie\", \"Pronab Sen\", \"Prabhat Patnaik\", \"Ninan\", \"Deepak Parekh\", \"Steve Forbes\", \"Krugman\", \"Harvard Business Review\", \"Hitler\", \"shutdown\", \"loss\", \"manpower\", \"emergency\", \"Indira\", \"vegetables\", \"rot\", \"dump\", \"farmers\", \"farming\", \"small industries\", \"SME\", \"difficulties\", \"violence\", \"thrashing\", \"transportation\", \"truck\", \"toll\", \"rabi\", \"harvest\", \"unsold\", \"drop\", \"backdated entries\"]"
   ]
  },
  {
   "cell_type": "markdown",
   "metadata": {},
   "source": [
    "Converting the bag of words to lowercase. This will help when we compare the keywords with the tweets."
   ]
  },
  {
   "cell_type": "code",
   "execution_count": 9,
   "metadata": {
    "collapsed": false,
    "scrolled": true
   },
   "outputs": [
    {
     "name": "stdout",
     "output_type": "stream",
     "text": [
      "<type 'list'>\n"
     ]
    }
   ],
   "source": [
    "def lowerList(List):\n",
    "    lower = []\n",
    "    for i in List:\n",
    "        i = i.lower()\n",
    "        lower.append(i)\n",
    "    return lower\n",
    "Classes = [Gov_Ann, Reason1_FakeC, Reason2_BlackM, Reason3_CashL, Pol_Parties, Media_Reactions, Support, Criticism]\n",
    "print(type(Classes))\n",
    "Classes = [lowerList(Class) for Class in Classes]"
   ]
  },
  {
   "cell_type": "code",
   "execution_count": null,
   "metadata": {
    "collapsed": true
   },
   "outputs": [],
   "source": []
  },
  {
   "cell_type": "markdown",
   "metadata": {},
   "source": [
    "Creating a dictionary of the keywords in each class. Storing in dictionary format helps in executing some of the functions later.\n"
   ]
  },
  {
   "cell_type": "code",
   "execution_count": 10,
   "metadata": {
    "collapsed": false
   },
   "outputs": [],
   "source": [
    "\n",
    "Classes_Dict = {\n",
    "    'Gov_Ann': Classes[0],\n",
    "    'Reason1_FakeC': Classes[1],\n",
    "    'Reason2_BlackM': Classes[2],\n",
    "    'Reason3_CashL': Classes[3],\n",
    "    'Pol_Parties': Classes[4],\n",
    "    'Media_Reactions': Classes[5],\n",
    "    'Support': Classes[6],\n",
    "    'Criticism': Classes[7]\n",
    "}    "
   ]
  },
  {
   "cell_type": "code",
   "execution_count": null,
   "metadata": {
    "collapsed": true
   },
   "outputs": [],
   "source": []
  },
  {
   "cell_type": "markdown",
   "metadata": {},
   "source": [
    "Creating dictionary that will store the numeric value of the number of tweets belonging to each class. The function below it \n",
    "will calculate the count of the tweets. This tweet count for each class will be stored in the count dictionary as values\n"
   ]
  },
  {
   "cell_type": "code",
   "execution_count": 11,
   "metadata": {
    "collapsed": true
   },
   "outputs": [],
   "source": [
    "count = {\n",
    "         'Gov_Ann': 0,\n",
    "         'Reason1_FakeC': 0,\n",
    "         'Reason2_BlackM': 0,\n",
    "         'Reason3_CashL': 0,\n",
    "         'Pol_Parties': 0,\n",
    "         'Media_Reactions': 0,\n",
    "         'Support': 0,\n",
    "         'Criticism': 0\n",
    "        }"
   ]
  },
  {
   "cell_type": "markdown",
   "metadata": {},
   "source": [
    "# The below function does two things. \n",
    "\n",
    "1) It gives us the count of the number of tweets belonging to each class (Stored in the\n",
    "dictionary called count). \n",
    "\n",
    "2) And it also creates a dictionary which will have name of the classes as keys, and all the tweets belonging to it as values. \n",
    "The tweets have been cleaned. Full stops, exclamation marks, etc. have been removed from them. This will allow us to match \n",
    "words in a more accurate manner (Eg. 'demonetisation!' will not be read to be equal to 'demonetisation' if we do not do so)."
   ]
  },
  {
   "cell_type": "code",
   "execution_count": 179,
   "metadata": {
    "collapsed": false
   },
   "outputs": [],
   "source": [
    "\n",
    "import re\n",
    "\n",
    "def clean_tweets(tweets):\n",
    "    Tweets = {\n",
    "     'Gov_Ann': [],\n",
    "     'Reason1_FakeC': [],\n",
    "     'Reason2_BlackM': [],\n",
    "     'Reason3_CashL': [],\n",
    "     'Pol_Parties': [],\n",
    "     'Media_Reactions': [], \n",
    "     'Support': [],\n",
    "     'Criticism': []\n",
    "    }\n",
    "    for tweet in tweets:\n",
    "        clean_tweet = tweet.strip('.' '!' '?' ')' '(' '#' ',' ':' '-').lower()\n",
    "        #clean_tweet = re.sub(r'^https?:\\/\\/.*[\\r\\n]*', '', clean_tweets, flags=re.MULTILINE)\n",
    "        clean_tweet=re.sub(r'http[s]?://(?:[a-z]|[0-9]|[$-_@.&amp;+]|[!*\\(\\),]|(?:%[0-9a-f][0-9a-f]))+','',tweet,\n",
    "                          flags=re.MULTILINE)\n",
    "        clean_tweet=re.sub(r'<[^>]+>','',clean_tweet,flags=re.MULTILINE)\n",
    "        clean_tweet=re.sub(r\"http\\S+\", \"\", clean_tweet)\n",
    "        for word in clean_tweet.split():\n",
    "            for Class in Classes_Dict:\n",
    "                if word in Classes_Dict[Class]:\n",
    "                    count[Class] = count[Class] + 1\n",
    "                    Tweets[Class].append(clean_tweet)\n",
    "    return count"
   ]
  },
  {
   "cell_type": "markdown",
   "metadata": {},
   "source": [
    "The Tweets variable is a dictionary. It has names of the classes as keys and all the tweets belonging to the class as values."
   ]
  },
  {
   "cell_type": "code",
   "execution_count": 180,
   "metadata": {
    "collapsed": false
   },
   "outputs": [],
   "source": [
    "Tweets=clean_tweets(Tweets_WithDate['text'])"
   ]
  },
  {
   "cell_type": "code",
   "execution_count": 181,
   "metadata": {
    "collapsed": false
   },
   "outputs": [
    {
     "data": {
      "text/plain": [
       "77155"
      ]
     },
     "execution_count": 181,
     "metadata": {},
     "output_type": "execute_result"
    }
   ],
   "source": [
    "Tweets['Criticism']"
   ]
  },
  {
   "cell_type": "code",
   "execution_count": null,
   "metadata": {
    "collapsed": false
   },
   "outputs": [],
   "source": []
  },
  {
   "cell_type": "code",
   "execution_count": 182,
   "metadata": {
    "collapsed": false
   },
   "outputs": [],
   "source": [
    "Tweets_monthwise=list(Data['text'].groupby(Data['month']))\n",
    "#Tweets_monthwise=pd.DataFrame(Tweets_monthwise,columns=['month','tweets'])\n",
    "#Tweets_monthwise[0]=list(Tweets_monthwise[0])\n",
    "#Tweets_monthwise=[list(Tweets_monthwise[i]) for i in range(len(Tweets_monthwise))]\n",
    "#Tweets_monthwise"
   ]
  },
  {
   "cell_type": "code",
   "execution_count": 183,
   "metadata": {
    "collapsed": false
   },
   "outputs": [],
   "source": [
    "#for \n",
    "Tweets_monthwise1_februray=pd.DataFrame(Tweets_monthwise[1][1])\n",
    "Tweets_monthwise1_Decemeber=pd.DataFrame(Tweets_monthwise[0][1])\n",
    "Tweets_monthwise1_January=pd.DataFrame(Tweets_monthwise[2][1])\n",
    "Tweets_monthwise1_November=pd.DataFrame(Tweets_monthwise[3][1])"
   ]
  },
  {
   "cell_type": "code",
   "execution_count": 172,
   "metadata": {
    "collapsed": false
   },
   "outputs": [
    {
     "data": {
      "text/plain": [
       "0       Thanks to demonitisation and predatory pricing...\n",
       "1       LMAO .. demonitisation gave a new lease of lif...\n",
       "2       KSG EXCLUSIVE INSIGHT - THE DEMONITISATION EFF...\n",
       "3       @RoflGandhi_ @iamsrktheking jub Demonitisation...\n",
       "4       @timesofindia @narendramodi yes indeed true th...\n",
       "5       @timesofindia @narendramodi . You should loose...\n",
       "6       @IndiaToday @manogyaloiwal Demonitisation has ...\n",
       "7       Say Bye bye to demonitisation woes. With @mast...\n",
       "8       BJP is feeling like Mayawati did post demoniti...\n",
       "9       Say goodbye to demonitisation woes. With @mast...\n",
       "10      All Thanks to @mastercardindia for helping us ...\n",
       "11      @mastercardindia is doing a great job at helpi...\n",
       "12      @mastercardindia Kudos for helping us cope wit...\n",
       "13      pic.twitter.com/d4UESVXoBR and these assholes ...\n",
       "14      @mastercardindia Kudos for helping us cope wit...\n",
       "15      Demonitisation could potentially be a mega and...\n",
       "16      . @mastercardindia is doing a great job at hel...\n",
       "17      @TimesNowGovt has lots of funds after Demoniti...\n",
       "18      @PagluPiggu @sinhh Say goodbye to demonitisati...\n",
       "19      @mastercardindia Kudos for helping us cope wit...\n",
       "20      Don't worry bhai A state results declared BJP ...\n",
       "21      bhakt mittar ,then why namo kaka didnt resigne...\n",
       "22      @sinhh @mastercardindia is doing a great job a...\n",
       "23      8 out 10 atms in nehru place Delhi is out of c...\n",
       "24      @narendramodi ......Dear, PM.....kindly explai...\n",
       "25      @narendramodi after the demonitisation people'...\n",
       "26      @thearvindswami Zaire his son was arrested and...\n",
       "27      India has moved away from demonitisation , but...\n",
       "28      State Bank Of India ATM's not working at Tis H...\n",
       "29      SBI ATM's not working at Tis Hazari, Delhi. De...\n",
       "                              ...                        \n",
       "1550             @kkaiyamma Reason being demonitisation ?\n",
       "1551    LIVE Budget 2017: Many sectors still grappling...\n",
       "1552    LIVE #Budget2017 : Many sectors still grapplin...\n",
       "1553    #BudgetNow2017 Lot more expectation on this bu...\n",
       "1554    The biggest beneficiary of #demonitisation wou...\n",
       "1555    I hope d govt at last doesn't declare that ult...\n",
       "1556    By far, the best tweet on Demonitisation https...\n",
       "1557    @TimesNow may be there will be demonitisation ...\n",
       "1558    @Bhaktavatsulu1 @HartoshSinghBal @the_hindu wh...\n",
       "1559    #MyquestionstoFM Will you give us the numbers ...\n",
       "1560                          @Iam_Prerna #DEMONITISATION\n",
       "1561    8 P.M. ?? Demonitisation Haters Trigerred http...\n",
       "1562    #news #summary : brief- #india finmin #report ...\n",
       "1563    When asked about demonitisation , CEA Arvind S...\n",
       "1564    Quite likely that demonitisation had political...\n",
       "1565     Expecting Aam Admi budget after demonitisation .\n",
       "1566    After #Demonitisation what can we expect from ...\n",
       "1567        @ap_pune demonitisation ?? Link -> 8 p.m. LOL\n",
       "1568    @TheOfficialSBI My entire SBI branch at Gorai ...\n",
       "1569    This is d new real reason for demonitisation ....\n",
       "1570    #MyQuestionToFM Top agencies have predicted th...\n",
       "1571    #GHCbudget2017 finally after demonitisation ve...\n",
       "1572    @dhume @profvarshney @tufailelif this argument...\n",
       "1573    2) IT slab will be increased favouring mostly ...\n",
       "1574    bdw there was great fuss of PM asking MPs to l...\n",
       "1575    Tahey didn't even get to India. But I was thin...\n",
       "1576    Demonitisation ke chkkar me mi baba ko bhool h...\n",
       "1577    #ModiBoostsEconomy Horlicks Economy,Bourn-Vita...\n",
       "1578    hope after getting president openion on demoni...\n",
       "1579    @PreetiSMenon @ArvindKejriwal Definitely demon...\n",
       "Name: text, dtype: object"
      ]
     },
     "execution_count": 172,
     "metadata": {},
     "output_type": "execute_result"
    }
   ],
   "source": [
    "#Tweets_monthwise[1][1]"
   ]
  },
  {
   "cell_type": "code",
   "execution_count": 82,
   "metadata": {
    "collapsed": false
   },
   "outputs": [],
   "source": [
    "#Tweetr=pd.DataFrame(Tweets_monthwise[0])"
   ]
  },
  {
   "cell_type": "code",
   "execution_count": 83,
   "metadata": {
    "collapsed": false
   },
   "outputs": [],
   "source": [
    "#list(Data.groupby(Data['month']))"
   ]
  },
  {
   "cell_type": "code",
   "execution_count": 84,
   "metadata": {
    "collapsed": false
   },
   "outputs": [
    {
     "data": {
      "text/html": [
       "<div>\n",
       "<table border=\"1\" class=\"dataframe\">\n",
       "  <thead>\n",
       "    <tr style=\"text-align: right;\">\n",
       "      <th></th>\n",
       "      <th>0</th>\n",
       "    </tr>\n",
       "  </thead>\n",
       "  <tbody>\n",
       "    <tr>\n",
       "      <th>0</th>\n",
       "      <td>December</td>\n",
       "    </tr>\n",
       "    <tr>\n",
       "      <th>1</th>\n",
       "      <td>6576     @PMOIndia Mr PM such freebies after H...</td>\n",
       "    </tr>\n",
       "  </tbody>\n",
       "</table>\n",
       "</div>"
      ],
      "text/plain": [
       "                                                   0\n",
       "0                                           December\n",
       "1  6576     @PMOIndia Mr PM such freebies after H..."
      ]
     },
     "execution_count": 84,
     "metadata": {},
     "output_type": "execute_result"
    }
   ],
   "source": [
    "#Tweetr"
   ]
  },
  {
   "cell_type": "code",
   "execution_count": 184,
   "metadata": {
    "collapsed": false
   },
   "outputs": [],
   "source": [
    "Tweets_February=clean_tweets(Tweets_monthwise1_februray['text'])\n",
    "Tweets_December=clean_tweets(Tweets_monthwise1_Decemeber['text'])\n",
    "Tweets_January=clean_tweets(Tweets_monthwise1_January['text'])\n",
    "Tweets_November=clean_tweets(Tweets_monthwise1_November['text'])\n"
   ]
  },
  {
   "cell_type": "code",
   "execution_count": 185,
   "metadata": {
    "collapsed": false
   },
   "outputs": [],
   "source": [
    "CristisimTweets=[Tweets_November['Gov_Ann'],Tweets_December['Gov_Ann'],Tweets_January['Gov_Ann'],\n",
    "                Tweets_February['Gov_Ann']]"
   ]
  },
  {
   "cell_type": "code",
   "execution_count": 187,
   "metadata": {
    "collapsed": false
   },
   "outputs": [
    {
     "data": {
      "text/plain": [
       "[74989, 74989, 74989, 74989]"
      ]
     },
     "execution_count": 187,
     "metadata": {},
     "output_type": "execute_result"
    }
   ],
   "source": [
    "# This is classwise tweets, but we are getting same count for each class\n",
    "CristisimTweets"
   ]
  },
  {
   "cell_type": "markdown",
   "metadata": {},
   "source": [
    "The below function calculates word count for words in each class. It creates a dictionary with class names as keys. Within each \n",
    "key, the value contains another dictionary. This dictionary contains word as key and its count as value."
   ]
  },
  {
   "cell_type": "code",
   "execution_count": 18,
   "metadata": {
    "collapsed": false
   },
   "outputs": [],
   "source": [
    "from stop_words import get_stop_words\n",
    "stop_words = get_stop_words('en')\n",
    "\n",
    "def classwordcount(Tweets):\n",
    "    stop_words = get_stop_words('en')\n",
    "    stop_words.extend(['-', '&', '…', '', '–', 'http://','goo.gl' ':', ',', ':'])\n",
    "    ClassWordCount = {\n",
    "        'Gov_Ann': {},\n",
    "        'Reason1_FakeC': {},\n",
    "        'Reason2_BlackM': {},\n",
    "        'Reason3_CashL': {},\n",
    "        'Pol_Parties': {},\n",
    "        'Media_Reactions': {}, \n",
    "        'Support': {},\n",
    "        'Criticism': {}\n",
    "    }\n",
    " \n",
    "    for Class in Tweets:\n",
    "        for word in Tweets[Class]:\n",
    "            word = word.split()\n",
    "            for w in word:\n",
    "                if w not in stop_words:\n",
    "                    if w not in ClassWordCount[Class]:\n",
    "                        ClassWordCount[Class][w] = Tweets[Class].count(w)\n",
    "                    else:\n",
    "                        ClassWordCount[Class][w] = ClassWordCount[Class][w] + 1\n",
    "    return ClassWordCount"
   ]
  },
  {
   "cell_type": "code",
   "execution_count": 19,
   "metadata": {
    "collapsed": false
   },
   "outputs": [
    {
     "name": "stderr",
     "output_type": "stream",
     "text": [
      "/home/akash/anaconda2/lib/python2.7/site-packages/ipykernel/__main__.py:22: UnicodeWarning: Unicode equal comparison failed to convert both arguments to Unicode - interpreting them as being unequal\n"
     ]
    }
   ],
   "source": [
    "ClassWordCount=classwordcount(Tweets)"
   ]
  },
  {
   "cell_type": "code",
   "execution_count": null,
   "metadata": {
    "collapsed": true
   },
   "outputs": [],
   "source": []
  },
  {
   "cell_type": "markdown",
   "metadata": {},
   "source": [
    "Here, we are defining a new function which will help us sort our newly created dictionary of word counts from the previous \n",
    "function. Therefore, words with maximum counts/occurences will appear first followed by those occuring less frequently."
   ]
  },
  {
   "cell_type": "code",
   "execution_count": 20,
   "metadata": {
    "collapsed": true
   },
   "outputs": [],
   "source": [
    "def sortDict(dic):\n",
    "    return [(word, dic[word]) for word in sorted(dic, key=dic.__getitem__, reverse=True)]    "
   ]
  },
  {
   "cell_type": "markdown",
   "metadata": {},
   "source": [
    "Here, we are not just using the above function to sort the word count dictionary. But also converting the same into a Dataframe.\n",
    "Dataframe offers many advantages over dictionary format which we will see ahead."
   ]
  },
  {
   "cell_type": "code",
   "execution_count": 21,
   "metadata": {
    "collapsed": false
   },
   "outputs": [],
   "source": [
    "Gov_Ann_WC_S = pd.DataFrame(data=sortDict(ClassWordCount['Gov_Ann']), columns=[\"Word\", 'Count'])\n",
    "Reason1_FakeC_WC_S = pd.DataFrame(data=sortDict(ClassWordCount['Reason1_FakeC']), columns=[\"Word\", 'Count'])\n",
    "Reason2_BlackM_WC_S = pd.DataFrame(data=sortDict(ClassWordCount['Reason2_BlackM']), columns=[\"Word\", 'Count'])\n",
    "Reason3_CashL_WC_S = pd.DataFrame(data=sortDict(ClassWordCount[\"Reason3_CashL\"]), columns=[\"Word\", 'Count'])\n",
    "Pol_Parties_WC_S = pd.DataFrame(data=sortDict(ClassWordCount[\"Pol_Parties\"]), columns=[\"Word\", 'Count'])\n",
    "Media_Reactions_WC_S = pd.DataFrame(data=sortDict(ClassWordCount[\"Media_Reactions\"]), columns=['Word', 'Count'])\n",
    "Support_WC_S = pd.DataFrame(data=sortDict( ClassWordCount[\"Support\"]), columns=[\"Word\", 'Count'])\n",
    "Criticism_WC_S = pd.DataFrame(data=sortDict(ClassWordCount['Criticism']), columns=[\"Word\", 'Count'])"
   ]
  },
  {
   "cell_type": "code",
   "execution_count": 22,
   "metadata": {
    "collapsed": false
   },
   "outputs": [],
   "source": [
    "import matplotlib.pyplot as plt\n",
    "%matplotlib inline"
   ]
  },
  {
   "cell_type": "code",
   "execution_count": 23,
   "metadata": {
    "collapsed": false
   },
   "outputs": [
    {
     "name": "stdout",
     "output_type": "stream",
     "text": [
      "month\n",
      "December    14991\n",
      "February     1580\n",
      "January      4996\n",
      "November    57625\n",
      "Name: text, dtype: int64\n"
     ]
    }
   ],
   "source": [
    "Month_tweets=Data['text'].groupby(Data[\"month\"]).count()\n",
    "print Month_tweets\n",
    "Month_tweets=Month_tweets.sort_values(ascending=False)"
   ]
  },
  {
   "cell_type": "code",
   "execution_count": 24,
   "metadata": {
    "collapsed": false
   },
   "outputs": [
    {
     "data": {
      "text/plain": [
       "<matplotlib.text.Text at 0x7f8039a55490>"
      ]
     },
     "execution_count": 24,
     "metadata": {},
     "output_type": "execute_result"
    },
    {
     "data": {
      "image/png": "[encoded data removed]",
      "text/plain": [
       "<matplotlib.figure.Figure at 0x7f803c244e10>"
      ]
     },
     "metadata": {},
     "output_type": "display_data"
    }
   ],
   "source": [
    "import seaborn as sns\n",
    "x=[\"November\",\"December\",\"January\",\"Feb\"]\n",
    "b=sns.barplot(Month_tweets.index,y=Month_tweets.values)\n",
    "b.set_title('No. of Tweets for each month')\n",
    "b.set_xlabel(\"month\")\n",
    "b.set_ylabel(\"No. of Tweets\")"
   ]
  },
  {
   "cell_type": "code",
   "execution_count": 25,
   "metadata": {
    "collapsed": false
   },
   "outputs": [
    {
     "ename": "NameError",
     "evalue": "name 'Tweet' is not defined",
     "output_type": "error",
     "traceback": [
      "\u001b[0;31m---------------------------------------------------------------------------\u001b[0m",
      "\u001b[0;31mNameError\u001b[0m                                 Traceback (most recent call last)",
      "\u001b[0;32m<ipython-input-25-bae0763dce8d>\u001b[0m in \u001b[0;36m<module>\u001b[0;34m()\u001b[0m\n\u001b[0;32m----> 1\u001b[0;31m \u001b[0mTweet\u001b[0m\u001b[0;34m\u001b[0m\u001b[0m\n\u001b[0m",
      "\u001b[0;31mNameError\u001b[0m: name 'Tweet' is not defined"
     ]
    }
   ],
   "source": [
    "Tweet"
   ]
  },
  {
   "cell_type": "code",
   "execution_count": 26,
   "metadata": {
    "collapsed": false
   },
   "outputs": [
    {
     "data": {
      "text/plain": [
       "['Gov_Ann',\n",
       " 'Criticism',\n",
       " 'Pol_Parties',\n",
       " 'Support',\n",
       " 'Reason1_FakeC',\n",
       " 'Reason3_CashL',\n",
       " 'Media_Reactions',\n",
       " 'Reason2_BlackM']"
      ]
     },
     "execution_count": 26,
     "metadata": {},
     "output_type": "execute_result"
    }
   ],
   "source": [
    "sorted(count, key=count.get, reverse=True)"
   ]
  },
  {
   "cell_type": "code",
   "execution_count": 27,
   "metadata": {
    "collapsed": false
   },
   "outputs": [
    {
     "data": {
      "text/plain": [
       "491"
      ]
     },
     "execution_count": 27,
     "metadata": {},
     "output_type": "execute_result"
    }
   ],
   "source": [
    "Tweets_per_class=[]\n",
    "Classes1 = ['Reason2_BlackM', 'Reason1_FakeC', 'Media_Reactions', 'Reason3_CashL', 'Support', 'Pol_Parties', 'Criticism', 'Gov_Ann']\n",
    "for Class in Classes1:\n",
    "    Tweets_per_class.append(len(Tweets[Class]))\n",
    "\n",
    "Tweets_per_class\n",
    "len(Tweets['Reason2_BlackM'])"
   ]
  },
  {
   "cell_type": "code",
   "execution_count": 28,
   "metadata": {
    "collapsed": false
   },
   "outputs": [
    {
     "data": {
      "image/png": "[encoded data removed]",
      "text/plain": [
       "<matplotlib.figure.Figure at 0x7f80396fec50>"
      ]
     },
     "metadata": {},
     "output_type": "display_data"
    }
   ],
   "source": [
    "import seaborn as sns\n",
    "Classes1 = ['Reason2_BlackM', 'Reason1_FakeC', 'Media_Reactions', 'Reason3_CashL', 'Support', 'Pol_Parties', 'Criticism', 'Gov_Ann']\n",
    "_ROTATION_DEGREES = 90\n",
    "b=sns.barplot(x=Classes1,y=np.sort(list(Tweets_per_class)))\n",
    "b.set_xticklabels(Classes1, rotation=_ROTATION_DEGREES)\n",
    "b.set_title('No. of Tweets for each class')\n",
    "b.set_xlabel(\"Classes\")\n",
    "b.set_ylabel(\"No. of Tweets\")\n",
    "b.invert_xaxis()"
   ]
  },
  {
   "cell_type": "code",
   "execution_count": null,
   "metadata": {
    "collapsed": false
   },
   "outputs": [],
   "source": [
    "#A=Tweets['Criticism'][0]\n",
    "#weets_WithDate[Data['text']==A]\n",
    "Tweets_WithDate['only_date'] = pd.DatetimeIndex(Tweets_WithDate['date']).date\n",
    "Tweets_WithDate.head()\n",
    "tweets_date=Tweets_WithDate.groupby(['only_date']).count()\n",
    "tweets_date['text'].head()\n",
    "df['col']=Twee"
   ]
  },
  {
   "cell_type": "code",
   "execution_count": null,
   "metadata": {
    "collapsed": false
   },
   "outputs": [],
   "source": [
    "tweetwords = [Tweets_WithDate['text'][i].split() for i in range(len(Tweets_WithDate)) ]"
   ]
  },
  {
   "cell_type": "code",
   "execution_count": null,
   "metadata": {
    "collapsed": false
   },
   "outputs": [],
   "source": [
    "from stop_words import get_stop_words\n",
    "stop_words = get_stop_words('en')\n",
    "stop_words.extend(['-', '&', '…', '', '–', 'http://', ':', ',', ':'])"
   ]
  },
  {
   "cell_type": "code",
   "execution_count": null,
   "metadata": {
    "collapsed": true
   },
   "outputs": [],
   "source": [
    "\n",
    "def wordcount(tweets):\n",
    "    wordcount = {}\n",
    "    for tweet in tweets:\n",
    "        for word in tweet:\n",
    "            clean_word = word.strip('.' '!' '?' ')' '(' '#' ',' ':').lower()\n",
    "            clean_word = re.sub(r'^https?:\\/\\/.*[\\r\\n]*', '', clean_word, flags=re.MULTILINE)\n",
    "            \n",
    "            if clean_word not in stop_words:\n",
    "                if clean_word not in wordcount:\n",
    "                    count = tweet.count(word)\n",
    "                    wordcount[clean_word] = count\n",
    "                else:\n",
    "                    wordcount[clean_word] = wordcount[clean_word] + 1\n",
    "    return wordcount\n",
    "                \n",
    "                \n",
    "            \n",
    "            "
   ]
  },
  {
   "cell_type": "code",
   "execution_count": 264,
   "metadata": {
    "collapsed": false
   },
   "outputs": [
    {
     "name": "stderr",
     "output_type": "stream",
     "text": [
      "/home/dharma/anaconda2/lib/python2.7/site-packages/ipykernel/__main__.py:8: UnicodeWarning: Unicode equal comparison failed to convert both arguments to Unicode - interpreting them as being unequal\n"
     ]
    }
   ],
   "source": [
    "wordCount = wordcount(tweetwords)\n"
   ]
  },
  {
   "cell_type": "code",
   "execution_count": 265,
   "metadata": {
    "collapsed": true
   },
   "outputs": [],
   "source": [
    "maxcount = [(word, wordCount[word]) for word in sorted(wordCount, key=wordCount.get, reverse=True)]"
   ]
  },
  {
   "cell_type": "code",
   "execution_count": null,
   "metadata": {
    "collapsed": false
   },
   "outputs": [],
   "source": []
  },
  {
   "cell_type": "code",
   "execution_count": 266,
   "metadata": {
    "collapsed": false
   },
   "outputs": [],
   "source": [
    "Tweets_WithDate['only_date'] = pd.DatetimeIndex(Tweets_WithDate['date']).date"
   ]
  },
  {
   "cell_type": "code",
   "execution_count": 270,
   "metadata": {
    "collapsed": false
   },
   "outputs": [
    {
     "data": {
      "text/plain": [
       "only_date\n",
       "2016-01-12    715\n",
       "2016-02-12    704\n",
       "2016-03-12    857\n",
       "2016-04-12    601\n",
       "2016-05-12    391\n",
       "Name: text, dtype: int64"
      ]
     },
     "execution_count": 270,
     "metadata": {},
     "output_type": "execute_result"
    }
   ],
   "source": [
    "tweets_date=Tweets_WithDate.groupby(['only_date']).count()\n",
    "tweets_date['text'].head()"
   ]
  },
  {
   "cell_type": "code",
   "execution_count": 273,
   "metadata": {
    "collapsed": false
   },
   "outputs": [
    {
     "data": {
      "text/plain": [
       "0    2017-02-16\n",
       "1    2017-02-16\n",
       "2    2017-02-16\n",
       "3    2017-02-16\n",
       "4    2017-02-16\n",
       "Name: only_date, dtype: object"
      ]
     },
     "execution_count": 273,
     "metadata": {},
     "output_type": "execute_result"
    }
   ],
   "source": [
    "Tweets_WithDate['only_date'].sub.head()"
   ]
  },
  {
   "cell_type": "code",
   "execution_count": 180,
   "metadata": {
    "collapsed": false
   },
   "outputs": [
    {
     "data": {
      "text/plain": [
       "<matplotlib.text.Text at 0x7f7371b53d50>"
      ]
     },
     "execution_count": 180,
     "metadata": {},
     "output_type": "execute_result"
    },
    {
     "data": {
      "image/png": "[encoded data removed]",
      "text/plain": [
       "<matplotlib.figure.Figure at 0x7f7371af6cd0>"
      ]
     },
     "metadata": {},
     "output_type": "display_data"
    }
   ],
   "source": [
    "import seaborn as sns\n",
    "tweets_date['text'].transpose().plot(kind='line',figsize=(6.5, 4))\n",
    "plt.legend(bbox_to_anchor=(1.05, 1), loc=2, borderaxespad=0.)\n",
    "plt.title('The number of demonitisation tweets per date')"
   ]
  },
  {
   "cell_type": "code",
   "execution_count": 162,
   "metadata": {
    "collapsed": false
   },
   "outputs": [
    {
     "data": {
      "text/html": [
       "<div>\n",
       "<table border=\"1\" class=\"dataframe\">\n",
       "  <thead>\n",
       "    <tr style=\"text-align: right;\">\n",
       "      <th></th>\n",
       "      <th>date</th>\n",
       "      <th>text</th>\n",
       "      <th>only_date</th>\n",
       "    </tr>\n",
       "  </thead>\n",
       "  <tbody>\n",
       "    <tr>\n",
       "      <th>0</th>\n",
       "      <td>2017-02-13 05:27</td>\n",
       "      <td>farmers hit hard as tur dal traders shut shop ...</td>\n",
       "      <td>2017-02-13</td>\n",
       "    </tr>\n",
       "    <tr>\n",
       "      <th>1</th>\n",
       "      <td>2017-02-13 05:19</td>\n",
       "      <td>note ban most disruptive policy innovation sin...</td>\n",
       "      <td>2017-02-13</td>\n",
       "    </tr>\n",
       "    <tr>\n",
       "      <th>2</th>\n",
       "      <td>2017-02-13 05:16</td>\n",
       "      <td>after demonetisation , digital deluge, banks s...</td>\n",
       "      <td>2017-02-13</td>\n",
       "    </tr>\n",
       "    <tr>\n",
       "      <th>3</th>\n",
       "      <td>2017-02-13 05:14</td>\n",
       "      <td>rbi to declare 'verified' figure on post- demo...</td>\n",
       "      <td>2017-02-13</td>\n",
       "    </tr>\n",
       "    <tr>\n",
       "      <th>4</th>\n",
       "      <td>2017-02-13 05:14</td>\n",
       "      <td>‘we’ll show them what it means to be cashless’...</td>\n",
       "      <td>2017-02-13</td>\n",
       "    </tr>\n",
       "  </tbody>\n",
       "</table>\n",
       "</div>"
      ],
      "text/plain": [
       "               date                                               text  \\\n",
       "0  2017-02-13 05:27  farmers hit hard as tur dal traders shut shop ...   \n",
       "1  2017-02-13 05:19  note ban most disruptive policy innovation sin...   \n",
       "2  2017-02-13 05:16  after demonetisation , digital deluge, banks s...   \n",
       "3  2017-02-13 05:14  rbi to declare 'verified' figure on post- demo...   \n",
       "4  2017-02-13 05:14  ‘we’ll show them what it means to be cashless’...   \n",
       "\n",
       "    only_date  \n",
       "0  2017-02-13  \n",
       "1  2017-02-13  \n",
       "2  2017-02-13  \n",
       "3  2017-02-13  \n",
       "4  2017-02-13  "
      ]
     },
     "execution_count": 162,
     "metadata": {},
     "output_type": "execute_result"
    }
   ],
   "source": [
    "Tweets_WithDate.head()"
   ]
  },
  {
   "cell_type": "code",
   "execution_count": null,
   "metadata": {
    "collapsed": false
   },
   "outputs": [],
   "source": []
  }
 ],
 "metadata": {
  "anaconda-cloud": {},
  "kernelspec": {
   "display_name": "Python [conda root]",
   "language": "python",
   "name": "conda-root-py"
  },
  "language_info": {
   "codemirror_mode": {
    "name": "ipython",
    "version": 2
   },
   "file_extension": ".py",
   "mimetype": "text/x-python",
   "name": "python",
   "nbconvert_exporter": "python",
   "pygments_lexer": "ipython2",
   "version": "2.7.12"
  }
 },
 "nbformat": 4,
 "nbformat_minor": 1
}
